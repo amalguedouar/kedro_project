{
 "cells": [
  {
   "cell_type": "code",
   "execution_count": null,
   "id": "cdd37cc9",
   "metadata": {},
   "outputs": [],
   "source": [
    "session.run()\n"
   ]
  },
  {
   "cell_type": "code",
   "execution_count": null,
   "id": "97bfaa2e",
   "metadata": {},
   "outputs": [],
   "source": [
    "def factorielle(n):\n",
    "    if n == 0:\n",
    "        return 1\n",
    "    else:\n",
    "        F = 1\n",
    "        for k in range(2,n+1):\n",
    "            F = F * k\n",
    "\n",
    "        return F"
   ]
  },
  {
   "cell_type": "code",
   "execution_count": null,
   "id": "86ce8dbb",
   "metadata": {},
   "outputs": [],
   "source": [
    "factorielle(365-40)/factorielle(365)"
   ]
  },
  {
   "cell_type": "code",
   "execution_count": null,
   "id": "5704f45c",
   "metadata": {},
   "outputs": [],
   "source": [
    "def factorial(n):\n",
    "    fact = 1\n",
    "    for num in range(2, n + 1):\n",
    "        fact *= num\n",
    "    return fact"
   ]
  },
  {
   "cell_type": "code",
   "execution_count": null,
   "id": "3568955e",
   "metadata": {},
   "outputs": [],
   "source": [
    "x=factorial(365)/factorial(365)\n",
    "x"
   ]
  },
  {
   "cell_type": "code",
   "execution_count": 1,
   "id": "808e0858",
   "metadata": {},
   "outputs": [],
   "source": [
    "n=40\n",
    "produit = 365\n",
    "list = []\n",
    "for i in range(n):\n",
    "    num = produit -1\n",
    "    list.append(num)\n",
    "    "
   ]
  },
  {
   "cell_type": "code",
   "execution_count": 2,
   "id": "f5a94a3e",
   "metadata": {},
   "outputs": [],
   "source": [
    "prod = 1\n",
    "for elem in list:\n",
    "    prod = prod * elem\n",
    "    "
   ]
  },
  {
   "cell_type": "code",
   "execution_count": 3,
   "id": "fcfc4f81",
   "metadata": {},
   "outputs": [
    {
     "data": {
      "text/plain": [
       "2780067533621162873658720341379341254336231157984392036951907386256175643293356554900651449462110027776"
      ]
     },
     "execution_count": 3,
     "metadata": {},
     "output_type": "execute_result"
    }
   ],
   "source": [
    "prod\n"
   ]
  },
  {
   "cell_type": "code",
   "execution_count": 4,
   "id": "54463520",
   "metadata": {},
   "outputs": [
    {
     "data": {
      "text/plain": [
       "3.597034920577829e-103"
      ]
     },
     "execution_count": 4,
     "metadata": {},
     "output_type": "execute_result"
    }
   ],
   "source": [
    "1/prod\n"
   ]
  },
  {
   "cell_type": "code",
   "execution_count": 17,
   "id": "fa4ab06b",
   "metadata": {},
   "outputs": [
    {
     "name": "stdout",
     "output_type": "stream",
     "text": [
      "1\n",
      "2\n",
      "3\n",
      "4\n",
      "5\n",
      "6\n",
      "7\n",
      "8\n",
      "9\n",
      "10\n",
      "11\n",
      "12\n",
      "13\n",
      "14\n",
      "15\n",
      "16\n",
      "17\n",
      "18\n",
      "19\n",
      "20\n",
      "21\n",
      "22\n",
      "23\n",
      "24\n",
      "25\n",
      "26\n",
      "27\n",
      "28\n",
      "29\n",
      "30\n",
      "31\n",
      "32\n",
      "33\n",
      "34\n",
      "35\n",
      "36\n",
      "37\n",
      "38\n",
      "39\n",
      "40\n"
     ]
    }
   ],
   "source": [
    "prod = 1\n",
    "for i in range(1,41):\n",
    "    print(i)\n",
    "    prod = prod * ((365 -(i -1))/365)\n",
    "    "
   ]
  },
  {
   "cell_type": "code",
   "execution_count": 18,
   "id": "e2c88502",
   "metadata": {},
   "outputs": [
    {
     "data": {
      "text/plain": [
       "0.10876819018205097"
      ]
     },
     "execution_count": 18,
     "metadata": {},
     "output_type": "execute_result"
    }
   ],
   "source": [
    "prod\n"
   ]
  },
  {
   "cell_type": "code",
   "execution_count": 19,
   "id": "f220e4fa",
   "metadata": {},
   "outputs": [
    {
     "name": "stdout",
     "output_type": "stream",
     "text": [
      "1\n",
      "2\n",
      "3\n",
      "4\n",
      "5\n",
      "6\n",
      "7\n",
      "8\n",
      "9\n",
      "10\n",
      "11\n",
      "12\n",
      "13\n",
      "14\n",
      "15\n",
      "16\n",
      "17\n",
      "18\n",
      "19\n",
      "20\n",
      "21\n",
      "22\n",
      "23\n",
      "24\n",
      "25\n",
      "26\n",
      "27\n",
      "28\n",
      "29\n",
      "30\n",
      "31\n",
      "32\n",
      "33\n",
      "34\n",
      "35\n",
      "36\n",
      "37\n",
      "38\n",
      "39\n",
      "40\n"
     ]
    },
    {
     "data": {
      "text/plain": [
       "2.9633538935867924e-102"
      ]
     },
     "execution_count": 19,
     "metadata": {},
     "output_type": "execute_result"
    }
   ],
   "source": [
    "prod = 1\n",
    "for i in range(1,41):\n",
    "    print(i)\n",
    "    prod = prod * (1/(365-i+1))\n",
    "    \n",
    "prod"
   ]
  },
  {
   "cell_type": "code",
   "execution_count": null,
   "id": "6b774809",
   "metadata": {},
   "outputs": [],
   "source": []
  }
 ],
 "metadata": {
  "kernelspec": {
   "display_name": "Python 3",
   "language": "python",
   "name": "python3"
  },
  "language_info": {
   "codemirror_mode": {
    "name": "ipython",
    "version": 3
   },
   "file_extension": ".py",
   "mimetype": "text/x-python",
   "name": "python",
   "nbconvert_exporter": "python",
   "pygments_lexer": "ipython3",
   "version": "3.6.9"
  }
 },
 "nbformat": 4,
 "nbformat_minor": 5
}
